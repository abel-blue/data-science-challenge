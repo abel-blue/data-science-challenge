{
 "cells": [
  {
   "cell_type": "markdown",
   "id": "e844bc7a",
   "metadata": {},
   "source": [
    "# ML Modeling\n",
    "\n",
    "## Contents\n",
    "- Pipeline in SkLearn\n",
    "    - Train Test Split\n",
    "- Pipeline Using the whole Data\n",
    "    - Logistic Regration\n",
    "    - Decision Tree Classifier\n",
    "    - Random Forest Classifier\n",
    "- Feature Importance\n",
    "- Predicted vs Actual Plot"
   ]
  },
  {
   "cell_type": "code",
   "execution_count": 24,
   "id": "08707f4d",
   "metadata": {},
   "outputs": [],
   "source": [
    "# importing important modules\n",
    "from sklearn.model_selection import train_test_split\n",
    "from sklearn. preprocessing import StandardScaler\n",
    "from sklearn. decomposition import PCA\n",
    "from sklearn.pipeline import Pipeline\n",
    "from sklearn.linear_model import LogisticRegression\n",
    "from sklearn.tree import DecisionTreeClassifier\n",
    "from sklearn.ensemble import RandomForestClassifier\n",
    "from sklearn.model_selection import GridSearchCV\n",
    "import pandas as pd\n",
    "import numpy as np"
   ]
  },
  {
   "cell_type": "markdown",
   "id": "704ca446",
   "metadata": {},
   "source": [
    "# Pipeline in SkLearn"
   ]
  },
  {
   "cell_type": "code",
   "execution_count": 25,
   "id": "b43b2055",
   "metadata": {},
   "outputs": [
    {
     "data": {
      "text/html": [
       "<div>\n",
       "<style scoped>\n",
       "    .dataframe tbody tr th:only-of-type {\n",
       "        vertical-align: middle;\n",
       "    }\n",
       "\n",
       "    .dataframe tbody tr th {\n",
       "        vertical-align: top;\n",
       "    }\n",
       "\n",
       "    .dataframe thead th {\n",
       "        text-align: right;\n",
       "    }\n",
       "</style>\n",
       "<table border=\"1\" class=\"dataframe\">\n",
       "  <thead>\n",
       "    <tr style=\"text-align: right;\">\n",
       "      <th></th>\n",
       "      <th>type</th>\n",
       "      <th>geo_country</th>\n",
       "      <th>site_name</th>\n",
       "      <th>platform_os</th>\n",
       "      <th>device_type</th>\n",
       "      <th>browser</th>\n",
       "      <th>kpis</th>\n",
       "      <th>Placement(s)</th>\n",
       "      <th>startdate</th>\n",
       "      <th>enddate</th>\n",
       "      <th>Serving Location(s)</th>\n",
       "      <th>Cost Centre</th>\n",
       "      <th>currency</th>\n",
       "      <th>Buy Rate (CPE)</th>\n",
       "      <th>Volume Agreed</th>\n",
       "      <th>Gross Cost/Budget</th>\n",
       "      <th>Percentage</th>\n",
       "      <th>Net Cost</th>\n",
       "      <th>browser_eng_Date</th>\n",
       "      <th>browser_eng_Time</th>\n",
       "    </tr>\n",
       "  </thead>\n",
       "  <tbody>\n",
       "    <tr>\n",
       "      <th>0</th>\n",
       "      <td>2</td>\n",
       "      <td>8</td>\n",
       "      <td>5700</td>\n",
       "      <td>5</td>\n",
       "      <td>0</td>\n",
       "      <td>4</td>\n",
       "      <td>6</td>\n",
       "      <td>1</td>\n",
       "      <td>20</td>\n",
       "      <td>19</td>\n",
       "      <td>7</td>\n",
       "      <td>2</td>\n",
       "      <td>6</td>\n",
       "      <td>-1.454603</td>\n",
       "      <td>2.29958</td>\n",
       "      <td>-0.087472</td>\n",
       "      <td>0.968693</td>\n",
       "      <td>-0.172359</td>\n",
       "      <td>23</td>\n",
       "      <td>75060</td>\n",
       "    </tr>\n",
       "    <tr>\n",
       "      <th>1</th>\n",
       "      <td>2</td>\n",
       "      <td>8</td>\n",
       "      <td>5700</td>\n",
       "      <td>5</td>\n",
       "      <td>0</td>\n",
       "      <td>19</td>\n",
       "      <td>6</td>\n",
       "      <td>1</td>\n",
       "      <td>20</td>\n",
       "      <td>19</td>\n",
       "      <td>7</td>\n",
       "      <td>2</td>\n",
       "      <td>6</td>\n",
       "      <td>-1.454603</td>\n",
       "      <td>2.29958</td>\n",
       "      <td>-0.087472</td>\n",
       "      <td>0.968693</td>\n",
       "      <td>-0.172359</td>\n",
       "      <td>23</td>\n",
       "      <td>75061</td>\n",
       "    </tr>\n",
       "    <tr>\n",
       "      <th>2</th>\n",
       "      <td>2</td>\n",
       "      <td>8</td>\n",
       "      <td>4805</td>\n",
       "      <td>5</td>\n",
       "      <td>0</td>\n",
       "      <td>5</td>\n",
       "      <td>6</td>\n",
       "      <td>1</td>\n",
       "      <td>20</td>\n",
       "      <td>19</td>\n",
       "      <td>7</td>\n",
       "      <td>2</td>\n",
       "      <td>6</td>\n",
       "      <td>-1.454603</td>\n",
       "      <td>2.29958</td>\n",
       "      <td>-0.087472</td>\n",
       "      <td>0.968693</td>\n",
       "      <td>-0.172359</td>\n",
       "      <td>27</td>\n",
       "      <td>1544</td>\n",
       "    </tr>\n",
       "    <tr>\n",
       "      <th>3</th>\n",
       "      <td>2</td>\n",
       "      <td>8</td>\n",
       "      <td>4805</td>\n",
       "      <td>5</td>\n",
       "      <td>0</td>\n",
       "      <td>18</td>\n",
       "      <td>6</td>\n",
       "      <td>1</td>\n",
       "      <td>20</td>\n",
       "      <td>19</td>\n",
       "      <td>7</td>\n",
       "      <td>2</td>\n",
       "      <td>6</td>\n",
       "      <td>-1.454603</td>\n",
       "      <td>2.29958</td>\n",
       "      <td>-0.087472</td>\n",
       "      <td>0.968693</td>\n",
       "      <td>-0.172359</td>\n",
       "      <td>28</td>\n",
       "      <td>45867</td>\n",
       "    </tr>\n",
       "    <tr>\n",
       "      <th>4</th>\n",
       "      <td>2</td>\n",
       "      <td>8</td>\n",
       "      <td>4805</td>\n",
       "      <td>5</td>\n",
       "      <td>0</td>\n",
       "      <td>4</td>\n",
       "      <td>6</td>\n",
       "      <td>1</td>\n",
       "      <td>20</td>\n",
       "      <td>19</td>\n",
       "      <td>7</td>\n",
       "      <td>2</td>\n",
       "      <td>6</td>\n",
       "      <td>-1.454603</td>\n",
       "      <td>2.29958</td>\n",
       "      <td>-0.087472</td>\n",
       "      <td>0.968693</td>\n",
       "      <td>-0.172359</td>\n",
       "      <td>28</td>\n",
       "      <td>45868</td>\n",
       "    </tr>\n",
       "  </tbody>\n",
       "</table>\n",
       "</div>"
      ],
      "text/plain": [
       "   type  geo_country  site_name  platform_os  device_type  browser  kpis  \\\n",
       "0     2            8       5700            5            0        4     6   \n",
       "1     2            8       5700            5            0       19     6   \n",
       "2     2            8       4805            5            0        5     6   \n",
       "3     2            8       4805            5            0       18     6   \n",
       "4     2            8       4805            5            0        4     6   \n",
       "\n",
       "   Placement(s)  startdate  enddate  Serving Location(s)  Cost Centre  \\\n",
       "0             1         20       19                    7            2   \n",
       "1             1         20       19                    7            2   \n",
       "2             1         20       19                    7            2   \n",
       "3             1         20       19                    7            2   \n",
       "4             1         20       19                    7            2   \n",
       "\n",
       "   currency  Buy Rate (CPE)  Volume Agreed  Gross Cost/Budget  Percentage  \\\n",
       "0         6       -1.454603        2.29958          -0.087472    0.968693   \n",
       "1         6       -1.454603        2.29958          -0.087472    0.968693   \n",
       "2         6       -1.454603        2.29958          -0.087472    0.968693   \n",
       "3         6       -1.454603        2.29958          -0.087472    0.968693   \n",
       "4         6       -1.454603        2.29958          -0.087472    0.968693   \n",
       "\n",
       "   Net Cost  browser_eng_Date  browser_eng_Time  \n",
       "0 -0.172359                23             75060  \n",
       "1 -0.172359                23             75061  \n",
       "2 -0.172359                27              1544  \n",
       "3 -0.172359                28             45867  \n",
       "4 -0.172359                28             45868  "
      ]
     },
     "execution_count": 25,
     "metadata": {},
     "output_type": "execute_result"
    }
   ],
   "source": [
    "# Load dataset\n",
    "df= pd.read_csv('../data/scaled_data.csv')\n",
    "df.head(5)"
   ]
  },
  {
   "cell_type": "code",
   "execution_count": 26,
   "id": "8a0eabdd",
   "metadata": {},
   "outputs": [
    {
     "data": {
      "text/plain": [
       "(20,)"
      ]
     },
     "execution_count": 26,
     "metadata": {},
     "output_type": "execute_result"
    }
   ],
   "source": [
    "df.columns.shape"
   ]
  },
  {
   "cell_type": "markdown",
   "id": "20274942",
   "metadata": {},
   "source": [
    "## Train Test split"
   ]
  },
  {
   "cell_type": "code",
   "execution_count": 42,
   "id": "53969963",
   "metadata": {},
   "outputs": [
    {
     "name": "stdout",
     "output_type": "stream",
     "text": [
      "X shape (99946, 18)\n",
      "y shape (99946,)\n",
      "X_train shape (99926, 18)\n",
      "X_test shape (20, 18)\n",
      "y_train shape (99926,)\n",
      "y_test shape (20,)\n"
     ]
    }
   ],
   "source": [
    "X= df.iloc[:,1:19]\n",
    "y= df['type']\n",
    "\n",
    "print('X shape',X.shape)\n",
    "print('y shape',y.shape)\n",
    "\n",
    "# train_test_split\n",
    "X_train, X_test, y_train, y_test = train_test_split(X,y, test_size=20, random_state= 30)\n",
    "\n",
    "print('X_train shape', X_train.shape)\n",
    "print('X_test shape', X_test.shape)\n",
    "print('y_train shape', y_train.shape)\n",
    "print('y_test shape', y_test.shape)"
   ]
  },
  {
   "cell_type": "markdown",
   "id": "0776aaf3",
   "metadata": {},
   "source": [
    "# Logistic Regression"
   ]
  },
  {
   "cell_type": "code",
   "execution_count": 43,
   "id": "d3292b33",
   "metadata": {},
   "outputs": [],
   "source": [
    "# Pipeline Logistic Regression: \n",
    "\n",
    "pipeline_lr = Pipeline([\n",
    "    ('scaler1',StandardScaler()),\n",
    "    ('pca1', PCA(n_components=2)),\n",
    "    ('lr_classifier', LogisticRegression(random_state=0))\n",
    "])"
   ]
  },
  {
   "cell_type": "code",
   "execution_count": 53,
   "id": "f4cc988e",
   "metadata": {},
   "outputs": [
    {
     "data": {
      "text/plain": [
       "<AxesSubplot:>"
      ]
     },
     "execution_count": 53,
     "metadata": {},
     "output_type": "execute_result"
    },
    {
     "data": {
      "image/png": "[encoded data removed]",
      "text/plain": [
       "<Figure size 432x288 with 2 Axes>"
      ]
     },
     "metadata": {
      "needs_background": "light"
     },
     "output_type": "display_data"
    }
   ],
   "source": [
    "from sklearn.metrics import f1_score,confusion_matrix\n",
    "import seaborn as sns\n",
    "cm_2 = confusion_matrix(y_test,pipeline_lr.predict(X_test))\n",
    "sns.heatmap(cm_2,annot=True,fmt=\"d\")"
   ]
  },
  {
   "cell_type": "markdown",
   "id": "6a15de57",
   "metadata": {},
   "source": [
    "# Decision Tree Classifier"
   ]
  },
  {
   "cell_type": "code",
   "execution_count": 45,
   "id": "92db0217",
   "metadata": {},
   "outputs": [],
   "source": [
    "# Pipeline Decision Tree Classifier:\n",
    "\n",
    "pipeline_dtc= Pipeline([\n",
    "    ('scaler2', StandardScaler()),\n",
    "    ('pca2', PCA(n_components=2)),\n",
    "    ('dt_classifier', DecisionTreeClassifier())\n",
    "])"
   ]
  },
  {
   "cell_type": "code",
   "execution_count": 54,
   "id": "68481811",
   "metadata": {},
   "outputs": [
    {
     "data": {
      "text/plain": [
       "<AxesSubplot:>"
      ]
     },
     "execution_count": 54,
     "metadata": {},
     "output_type": "execute_result"
    },
    {
     "data": {
      "image/png": "[encoded data removed]",
      "text/plain": [
       "<Figure size 432x288 with 2 Axes>"
      ]
     },
     "metadata": {
      "needs_background": "light"
     },
     "output_type": "display_data"
    }
   ],
   "source": [
    "from sklearn.metrics import f1_score,confusion_matrix\n",
    "import seaborn as sns\n",
    "cm_2 = confusion_matrix(y_test,pipeline_dtc.predict(X_test))\n",
    "sns.heatmap(cm_2,annot=True,fmt=\"d\")"
   ]
  },
  {
   "cell_type": "markdown",
   "id": "76e06137",
   "metadata": {},
   "source": [
    "# Random Forest Classifier"
   ]
  },
  {
   "cell_type": "code",
   "execution_count": 47,
   "id": "d5cd7896",
   "metadata": {},
   "outputs": [],
   "source": [
    "# Pipeline Random Forest Classifier:\n",
    "\n",
    "pipeline_rfc = Pipeline([\n",
    "    ('scaler3', StandardScaler()),\n",
    "    ('pca2', PCA(n_components=3)),\n",
    "    ('rf_classifier', RandomForestClassifier())\n",
    "])"
   ]
  },
  {
   "cell_type": "code",
   "execution_count": 55,
   "id": "4dbf6e80",
   "metadata": {},
   "outputs": [
    {
     "data": {
      "text/plain": [
       "<AxesSubplot:>"
      ]
     },
     "execution_count": 55,
     "metadata": {},
     "output_type": "execute_result"
    },
    {
     "data": {
      "image/png": "[encoded data removed]",
      "text/plain": [
       "<Figure size 432x288 with 2 Axes>"
      ]
     },
     "metadata": {
      "needs_background": "light"
     },
     "output_type": "display_data"
    }
   ],
   "source": [
    "from sklearn.metrics import f1_score,confusion_matrix\n",
    "import seaborn as sns\n",
    "cm_2 = confusion_matrix(y_test,pipeline_rfc.predict(X_test))\n",
    "sns.heatmap(cm_2,annot=True,fmt=\"d\")"
   ]
  },
  {
   "cell_type": "code",
   "execution_count": 49,
   "id": "26db7bfc",
   "metadata": {},
   "outputs": [],
   "source": [
    "# Make the list of pipeline: \n",
    "\n",
    "pipeline = [pipeline_lr,pipeline_dtc,pipeline_rfc]\n",
    "\n",
    "best_accuracy = 0.0\n",
    "best_classifier= 0\n",
    "best_pipeline = \"\""
   ]
  },
  {
   "cell_type": "code",
   "execution_count": 50,
   "id": "4c55162d",
   "metadata": {},
   "outputs": [],
   "source": [
    "# Dictionary of pipeline and classifier types for ease of reference:\n",
    "\n",
    "pipe_dict = { 0: 'Logistic Regression', 1: 'Decision Tree', 2:'RandomForest'}\n",
    "\n",
    "# fit the pipleline \n",
    "for pipe in pipeline:\n",
    "    pipe.fit(X_train, y_train)"
   ]
  },
  {
   "cell_type": "code",
   "execution_count": 51,
   "id": "e2ce82d8",
   "metadata": {},
   "outputs": [
    {
     "name": "stdout",
     "output_type": "stream",
     "text": [
      "Logistic Regression Test Accuracy: 0.9\n",
      "Decision Tree Test Accuracy: 0.85\n",
      "RandomForest Test Accuracy: 0.85\n"
     ]
    }
   ],
   "source": [
    "for i, model in enumerate(pipeline):\n",
    "    print('{} Test Accuracy: {}'.format(pipe_dict[i],model.score(X_test, y_test)))"
   ]
  },
  {
   "cell_type": "code",
   "execution_count": 52,
   "id": "7a6c7afa",
   "metadata": {},
   "outputs": [
    {
     "name": "stdout",
     "output_type": "stream",
     "text": [
      "classifier with best accuracy:Logistic Regression\n"
     ]
    }
   ],
   "source": [
    "for i, model in enumerate(pipeline):\n",
    "    if model.score(X_test, y_test) > best_accuracy:\n",
    "        best_accuracy= model.score(X_test, y_test)\n",
    "        best_pipeline= model\n",
    "        best_classifier= i\n",
    "print('classifier with best accuracy:{}'.format(pipe_dict[best_classifier]))"
   ]
  },
  {
   "cell_type": "markdown",
   "id": "a6079577",
   "metadata": {},
   "source": [
    "# Feature Importance"
   ]
  },
  {
   "cell_type": "code",
   "execution_count": 57,
   "id": "1d1bd9f3",
   "metadata": {},
   "outputs": [
    {
     "name": "stdout",
     "output_type": "stream",
     "text": [
      "Feature ranking:\n",
      "1. feature 1 (0.425583)\n",
      "2. feature 17 (0.201668)\n",
      "3. feature 4 (0.114897)\n",
      "4. feature 8 (0.110917)\n",
      "5. feature 3 (0.038546)\n",
      "6. feature 2 (0.027242)\n",
      "7. feature 6 (0.024050)\n",
      "8. feature 14 (0.014720)\n",
      "9. feature 9 (0.008088)\n",
      "10. feature 16 (0.007123)\n",
      "11. feature 7 (0.006798)\n",
      "12. feature 13 (0.005920)\n",
      "13. feature 15 (0.004653)\n",
      "14. feature 5 (0.002198)\n",
      "15. feature 10 (0.002076)\n",
      "16. feature 12 (0.002003)\n",
      "17. feature 11 (0.001980)\n",
      "18. feature 0 (0.001538)\n"
     ]
    },
    {
     "data": {
      "image/png": "[encoded data removed]",
      "text/plain": [
       "<Figure size 1008x936 with 1 Axes>"
      ]
     },
     "metadata": {
      "needs_background": "light"
     },
     "output_type": "display_data"
    }
   ],
   "source": [
    "import matplotlib.pyplot as plt\n",
    "clf_rf_5 = DecisionTreeClassifier()      \n",
    "clr_rf_5 = clf_rf_5.fit(X_train,y_train)\n",
    "importances = clr_rf_5.feature_importances_\n",
    "# std = np.std([tree.feature_importances_ for tree in pipeline_dtc.estimators_],\n",
    "#              axis=0)\n",
    "indices = np.argsort(importances)[::-1]\n",
    "\n",
    "# Print the feature ranking\n",
    "print(\"Feature ranking:\")\n",
    "\n",
    "for f in range(X_train.shape[1]):\n",
    "    print(\"%d. feature %d (%f)\" % (f + 1, indices[f], importances[indices[f]]))\n",
    "\n",
    "# Plot the feature importances of the forest\n",
    "\n",
    "plt.figure(1, figsize=(14, 13))\n",
    "plt.title(\"Feature importances\")\n",
    "plt.bar(range(X_train.shape[1]), importances[indices],\n",
    "       color=\"g\", align=\"center\")\n",
    "plt.xticks(range(X_train.shape[1]), X_train.columns[indices],rotation=90)\n",
    "plt.xlim([-1, X_train.shape[1]])\n",
    "plt.show()"
   ]
  },
  {
   "cell_type": "markdown",
   "id": "7e87aadc",
   "metadata": {},
   "source": [
    "# Predicted vs Actual Plot"
   ]
  },
  {
   "cell_type": "code",
   "execution_count": 58,
   "id": "65d65399",
   "metadata": {},
   "outputs": [
    {
     "name": "stdout",
     "output_type": "stream",
     "text": [
      "Predicted: [2 2 2 2 2 2 1 2 2 2]\n",
      "Actual: 88705    2\n",
      "43435    2\n",
      "39189    2\n",
      "8530     2\n",
      "92596    2\n",
      "21753    2\n",
      "34307    2\n",
      "62503    2\n",
      "38143    0\n",
      "80159    2\n",
      "Name: type, dtype: int64\n"
     ]
    }
   ],
   "source": [
    "# Define Decision Tree Model\n",
    "dt = DecisionTreeClassifier()\n",
    "# We fit our model with our train data\n",
    "dt.fit(X_train, y_train)\n",
    "# Then predict results from X_test data\n",
    "pred_dt = dt.predict(X_test)\n",
    "\n",
    "# See First 10 Predictions and They Actual Values\n",
    "print(\"Predicted:\", pred_dt[0:10])\n",
    "print(\"Actual:\", y_test[0:10])"
   ]
  },
  {
   "cell_type": "code",
   "execution_count": 60,
   "id": "09241bfe",
   "metadata": {},
   "outputs": [
    {
     "name": "stdout",
     "output_type": "stream",
     "text": [
      "    Pridicted\n",
      "0           2\n",
      "1           2\n",
      "2           2\n",
      "3           2\n",
      "4           2\n",
      "5           2\n",
      "6           1\n",
      "7           2\n",
      "8           2\n",
      "9           2\n",
      "10          2\n",
      "11          2\n",
      "12          2\n",
      "13          2\n",
      "14          2\n",
      "15          2\n",
      "16          2\n",
      "17          2\n",
      "18          2\n",
      "19          2\n",
      "<class 'pandas.core.frame.DataFrame'>\n"
     ]
    }
   ],
   "source": [
    "import pandas as pd\n",
    "from matplotlib import pyplot as plt\n",
    "\n",
    "import numpy as np\n",
    "import pandas as pd\n",
    "\n",
    "my_array = np.array(pred_dt)\n",
    "\n",
    "df_prd = pd.DataFrame(my_array, columns = ['Pridicted'])\n",
    "\n",
    "print(df_prd)\n",
    "print(type(df_prd))"
   ]
  },
  {
   "cell_type": "code",
   "execution_count": 61,
   "id": "69d272bd",
   "metadata": {},
   "outputs": [
    {
     "name": "stdout",
     "output_type": "stream",
     "text": [
      "    Actual\n",
      "0        2\n",
      "1        2\n",
      "2        2\n",
      "3        2\n",
      "4        2\n",
      "5        2\n",
      "6        2\n",
      "7        2\n",
      "8        0\n",
      "9        2\n",
      "10       2\n",
      "11       2\n",
      "12       2\n",
      "13       2\n",
      "14       2\n",
      "15       1\n",
      "16       2\n",
      "17       2\n",
      "18       2\n",
      "19       2\n",
      "<class 'pandas.core.frame.DataFrame'>\n"
     ]
    }
   ],
   "source": [
    "s = y_test\n",
    "\n",
    "df_act = s.to_frame(name=\"Actual\")\n",
    "df_act.reset_index(drop=True, inplace=True)\n",
    "print(df_act)\n",
    "print(type(df_act))"
   ]
  },
  {
   "cell_type": "code",
   "execution_count": 62,
   "id": "3f268cb5",
   "metadata": {},
   "outputs": [],
   "source": [
    "# result = pd.concat([df_prd, df_act], axis=1, ignore_index=True, sort='false')\n",
    "result = pd.concat([df_prd, df_act], axis=1)"
   ]
  },
  {
   "cell_type": "code",
   "execution_count": 63,
   "id": "40cdc910",
   "metadata": {},
   "outputs": [
    {
     "data": {
      "text/plain": [
       "<AxesSubplot:>"
      ]
     },
     "execution_count": 63,
     "metadata": {},
     "output_type": "execute_result"
    },
    {
     "data": {
      "image/png": "[encoded data removed]",
      "text/plain": [
       "<Figure size 432x288 with 1 Axes>"
      ]
     },
     "metadata": {
      "needs_background": "light"
     },
     "output_type": "display_data"
    }
   ],
   "source": [
    "# plotting pridicted vs actual plot\n",
    "result.plot()"
   ]
  }
 ],
 "metadata": {
  "kernelspec": {
   "display_name": "Python 3 (ipykernel)",
   "language": "python",
   "name": "python3"
  },
  "language_info": {
   "codemirror_mode": {
    "name": "ipython",
    "version": 3
   },
   "file_extension": ".py",
   "mimetype": "text/x-python",
   "name": "python",
   "nbconvert_exporter": "python",
   "pygments_lexer": "ipython3",
   "version": "3.9.12"
  }
 },
 "nbformat": 4,
 "nbformat_minor": 5
}
