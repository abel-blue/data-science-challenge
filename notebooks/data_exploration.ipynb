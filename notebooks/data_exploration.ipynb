{
 "cells": [
  {
   "cell_type": "markdown",
   "id": "c7e098af",
   "metadata": {},
   "source": [
    "# Data Exploration\n",
    "\n",
    "- Load Data\n",
    "- Data Wrangling\n",
    "- Univariate Analysis\n",
    "- Bivariate Analysis\n",
    "    - Violin Plots\n",
    "    - Pair Plots\n",
    "- Outliers\n",
    "- Correlations\n",
    "- Saving Clean Data"
   ]
  },
  {
   "cell_type": "code",
   "execution_count": null,
   "id": "7179efdd",
   "metadata": {},
   "outputs": [],
   "source": []
  }
 ],
 "metadata": {
  "kernelspec": {
   "display_name": "Python 3 (ipykernel)",
   "language": "python",
   "name": "python3"
  },
  "language_info": {
   "codemirror_mode": {
    "name": "ipython",
    "version": 3
   },
   "file_extension": ".py",
   "mimetype": "text/x-python",
   "name": "python",
   "nbconvert_exporter": "python",
   "pygments_lexer": "ipython3",
   "version": "3.9.12"
  }
 },
 "nbformat": 4,
 "nbformat_minor": 5
}
