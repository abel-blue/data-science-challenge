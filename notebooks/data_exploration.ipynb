{
 "cells": [
  {
   "cell_type": "markdown",
   "id": "8129ea25",
   "metadata": {},
   "source": [
    "# Data Exploration\n",
    "\n",
    "- Load Data\n",
    "- Data Wrangling\n",
    "- Univariate Analysis\n",
    "- Bivariate Analysis\n",
    "    - Plots\n",
    "    - Plots\n",
    "- Correlations\n",
    "- Saving Clean Data(for ml)"
   ]
  },
  {
   "cell_type": "markdown",
   "id": "db0caca5",
   "metadata": {},
   "source": [
    "# Load Data"
   ]
  },
  {
   "cell_type": "markdown",
   "id": "68072351",
   "metadata": {},
   "source": [
    "# Data Wrangling"
   ]
  },
  {
   "cell_type": "markdown",
   "id": "2b26db47",
   "metadata": {},
   "source": [
    "# Univariate Analysis"
   ]
  },
  {
   "cell_type": "markdown",
   "id": "134db727",
   "metadata": {},
   "source": [
    "# Bivariate Analysis"
   ]
  },
  {
   "cell_type": "markdown",
   "id": "0b76ea97",
   "metadata": {},
   "source": [
    "# Correlations"
   ]
  },
  {
   "cell_type": "markdown",
   "id": "4636d1fc",
   "metadata": {},
   "source": [
    "# Saving Clean Data(for ml)"
   ]
  },
  {
   "cell_type": "code",
   "execution_count": null,
   "id": "198690b6",
   "metadata": {},
   "outputs": [],
   "source": []
  }
 ],
 "metadata": {
  "kernelspec": {
   "display_name": "Python 3 (ipykernel)",
   "language": "python",
   "name": "python3"
  },
  "language_info": {
   "codemirror_mode": {
    "name": "ipython",
    "version": 3
   },
   "file_extension": ".py",
   "mimetype": "text/x-python",
   "name": "python",
   "nbconvert_exporter": "python",
   "pygments_lexer": "ipython3",
   "version": "3.9.12"
  }
 },
 "nbformat": 4,
 "nbformat_minor": 5
}
